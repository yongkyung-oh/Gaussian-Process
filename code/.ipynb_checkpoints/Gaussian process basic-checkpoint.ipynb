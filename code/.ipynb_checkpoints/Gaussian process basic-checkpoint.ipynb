{
 "cells": [
  {
   "cell_type": "markdown",
   "metadata": {},
   "source": [
    "# Gaussian Process for Machine Learning \n",
    "## Gaussian process simple example\n",
    "\n",
    "- Implementation of \"Seeger, M. (2004). Gaussian processes for machine learning. International journal of neural systems, 14(02), 69-106.\"\n",
    "- Implementation from [reference](https://blog.dominodatalab.com/fitting-gaussian-process-models-python/)\n",
    "- Equations and approaches are cited from \"Bishop, C. M. (2006). Pattern recognition and machine learning. springer.\""
   ]
  },
  {
   "cell_type": "markdown",
   "metadata": {},
   "source": [
    "\\begin{align*}\n",
    "k(x_n,x_m) = \\theta_0 \\exp{\\{ -\\frac{\\theta_1}{2}\\|{x_n-x_m}\\|^2 \\}} + \\theta_2 x_n^T x_m + \\theta_3 \n",
    "\\end{align*}"
   ]
  },
  {
   "cell_type": "code",
   "execution_count": 1,
   "metadata": {},
   "outputs": [
    {
     "ename": "ModuleNotFoundError",
     "evalue": "No module named 'matplotlib'",
     "output_type": "error",
     "traceback": [
      "\u001b[1;31m---------------------------------------------------------------------------\u001b[0m",
      "\u001b[1;31mModuleNotFoundError\u001b[0m                       Traceback (most recent call last)",
      "\u001b[1;32m<ipython-input-1-0c5340a1ef81>\u001b[0m in \u001b[0;36m<module>\u001b[1;34m\u001b[0m\n\u001b[0;32m      1\u001b[0m \u001b[1;32mimport\u001b[0m \u001b[0mnumpy\u001b[0m \u001b[1;32mas\u001b[0m \u001b[0mnp\u001b[0m\u001b[1;33m\u001b[0m\u001b[1;33m\u001b[0m\u001b[0m\n\u001b[1;32m----> 2\u001b[1;33m \u001b[1;32mimport\u001b[0m \u001b[0mmatplotlib\u001b[0m\u001b[1;33m.\u001b[0m\u001b[0mpyplot\u001b[0m \u001b[1;32mas\u001b[0m \u001b[0mplt\u001b[0m\u001b[1;33m\u001b[0m\u001b[1;33m\u001b[0m\u001b[0m\n\u001b[0m\u001b[0;32m      3\u001b[0m \u001b[1;33m\u001b[0m\u001b[0m\n\u001b[0;32m      4\u001b[0m \u001b[0mnp\u001b[0m\u001b[1;33m.\u001b[0m\u001b[0mrandom\u001b[0m\u001b[1;33m.\u001b[0m\u001b[0mseed\u001b[0m\u001b[1;33m(\u001b[0m\u001b[1;36m12345\u001b[0m\u001b[1;33m)\u001b[0m\u001b[1;33m\u001b[0m\u001b[1;33m\u001b[0m\u001b[0m\n\u001b[0;32m      5\u001b[0m \u001b[1;33m\u001b[0m\u001b[0m\n",
      "\u001b[1;31mModuleNotFoundError\u001b[0m: No module named 'matplotlib'"
     ]
    }
   ],
   "source": [
    "import numpy as np\n",
    "import matplotlib.pyplot as plt\n",
    "\n",
    "np.random.seed(12345)\n",
    "\n",
    "def cov(x, y, thetas):\n",
    "    return thetas[0] * np.exp( -0.5 * thetas[1] * np.subtract.outer(x, y)**2)\n",
    "\n",
    "def conditional(x_new, x, y, thetas):\n",
    "    B = cov(x_new, x, thetas)\n",
    "    C = cov(x, x, thetas)\n",
    "    A = cov(x_new, x_new, thetas)\n",
    "\n",
    "    mu = np.linalg.inv(C).dot(B.T).T.dot(y)\n",
    "    sigma = A - B.dot(np.linalg.inv(C).dot(B.T))\n",
    "    return(mu.squeeze(), sigma.squeeze())\n",
    "\n",
    "def predict(x, data, kernel, params, sigma, y):\n",
    "    k = [kernel(x, x2, params) for x2 in data]\n",
    "    Cinv = np.linalg.inv(sigma)\n",
    "    y_pred = np.dot(np.dot(k,Cinv),y)\n",
    "    sigma_new = kernel(x, x, params) - np.dot(k, Cinv).dot(k)\n",
    "    return y_pred, sigma_new"
   ]
  },
  {
   "cell_type": "code",
   "execution_count": null,
   "metadata": {},
   "outputs": [],
   "source": [
    "theta = [1, 10]\n",
    "sigma_0 = cov(0, 0, theta)\n",
    "xpts = np.arange(-5, 5, step=0.01)\n",
    "\n",
    "plt.figure(figsize=(4,3))\n",
    "plt.xlim(-5.5,5.5)\n",
    "plt.xlabel('x')\n",
    "plt.ylim(-2.5,2.5)\n",
    "plt.ylabel('y')\n",
    "plt.grid(which='both')\n",
    "plt.plot(xpts, np.zeros(len(xpts)))\n",
    "plt.fill_between(xpts, np.zeros(len(xpts))-sigma_0, np.zeros(len(xpts))+sigma_0, alpha=0.2, color='k')\n",
    "plt.title('Without Observation')\n",
    "plt.savefig('out1.png', transparent=True)"
   ]
  },
  {
   "cell_type": "code",
   "execution_count": null,
   "metadata": {},
   "outputs": [],
   "source": [
    "x_pred = np.linspace(-5, 5, 1000)\n",
    "\n",
    "x = [1]\n",
    "y = [np.random.normal(scale=sigma_0)]\n",
    "sigma_1 = cov(x, x, theta)\n",
    "\n",
    "predictions = [predict(i, x, cov, theta, sigma_1, y) for i in x_pred]\n",
    "y_pred, sigmas = np.transpose(predictions)"
   ]
  },
  {
   "cell_type": "code",
   "execution_count": null,
   "metadata": {
    "scrolled": true
   },
   "outputs": [],
   "source": [
    "plt.figure(figsize=(4,3))\n",
    "plt.xlim(-5.5,5.5)\n",
    "plt.xlabel('x')\n",
    "plt.ylim(-2.5,2.5)\n",
    "plt.ylabel('y')\n",
    "plt.grid(which='both')\n",
    "plt.plot(x_pred, y_pred)\n",
    "plt.fill_between(x_pred, y_pred-sigmas, y_pred+sigmas, alpha=0.2, color='k')\n",
    "plt.plot(x, y, \"ro\")\n",
    "plt.title('With 1 Observation')\n",
    "plt.savefig('out2.png', transparent=True)"
   ]
  },
  {
   "cell_type": "code",
   "execution_count": null,
   "metadata": {},
   "outputs": [],
   "source": [
    "x2 = [-0.7]\n",
    "m, s = conditional(x2, x, y, theta)\n",
    "y2 = np.random.normal(m, s)"
   ]
  },
  {
   "cell_type": "code",
   "execution_count": null,
   "metadata": {},
   "outputs": [],
   "source": [
    "x.append(-0.7)\n",
    "y.append(y2)\n",
    "sigma_2 = cov(x, x, theta)\n",
    "\n",
    "predictions = [predict(i, x, cov, theta, sigma_2, y) for i in x_pred]\n",
    "y_pred, sigmas = np.transpose(predictions)"
   ]
  },
  {
   "cell_type": "code",
   "execution_count": null,
   "metadata": {},
   "outputs": [],
   "source": [
    "plt.figure(figsize=(4,3))\n",
    "plt.xlim(-5.5,5.5)\n",
    "plt.xlabel('x')\n",
    "plt.ylim(-2.5,2.5)\n",
    "plt.ylabel('y')\n",
    "plt.grid(which='both')\n",
    "plt.plot(x_pred, y_pred)\n",
    "plt.fill_between(x_pred, y_pred-sigmas, y_pred+sigmas, alpha=0.2, color='k')\n",
    "plt.plot(x, y, \"ro\")\n",
    "plt.title('With 2 Observations')\n",
    "plt.savefig('out3.png', transparent=True)"
   ]
  },
  {
   "cell_type": "code",
   "execution_count": null,
   "metadata": {},
   "outputs": [],
   "source": [
    "x_more = [-4.1, -2.5, 0.0, 1.8, 3.5]\n",
    "mu, s = conditional(x_more, x, y, theta)\n",
    "y_more = np.random.multivariate_normal(mu, s)"
   ]
  },
  {
   "cell_type": "code",
   "execution_count": null,
   "metadata": {},
   "outputs": [],
   "source": [
    "x += x_more\n",
    "y += y_more.tolist()\n",
    " \n",
    "sigma_new = cov(x, x, theta)\n",
    "predictions = [predict(i, x, cov, theta, sigma_new, y) for i in x_pred]\n",
    " \n",
    "y_pred, sigmas = np.transpose(predictions)"
   ]
  },
  {
   "cell_type": "code",
   "execution_count": null,
   "metadata": {},
   "outputs": [],
   "source": [
    "plt.figure(figsize=(4,3))\n",
    "plt.xlim(-5.5,5.5)\n",
    "plt.xlabel('x')\n",
    "plt.ylim(-2.5,2.5)\n",
    "plt.ylabel('y')\n",
    "plt.grid(which='both')\n",
    "plt.plot(x_pred, y_pred)\n",
    "plt.fill_between(x_pred, y_pred-sigmas, y_pred+sigmas, alpha=0.2, color='k')\n",
    "plt.plot(x, y, \"ro\")\n",
    "plt.title('With multiple Observations')\n",
    "plt.savefig('out4.png', transparent=True)"
   ]
  },
  {
   "cell_type": "markdown",
   "metadata": {},
   "source": [
    "### references\n",
    "- Bishop's Pattern Recognition and Machine Learning: http://users.isr.ist.utl.pt/~wurmd/Livros/school/Bishop%20-%20Pattern%20Recognition%20And%20Machine%20Learning%20-%20Springer%20%202006.pdf\n",
    "- Basic code: https://blog.dominodatalab.com/fitting-gaussian-process-models-python/"
   ]
  }
 ],
 "metadata": {
  "kernelspec": {
   "display_name": "Python 3",
   "language": "python",
   "name": "python3"
  },
  "language_info": {
   "codemirror_mode": {
    "name": "ipython",
    "version": 3
   },
   "file_extension": ".py",
   "mimetype": "text/x-python",
   "name": "python",
   "nbconvert_exporter": "python",
   "pygments_lexer": "ipython3",
   "version": "3.7.2"
  }
 },
 "nbformat": 4,
 "nbformat_minor": 2
}
